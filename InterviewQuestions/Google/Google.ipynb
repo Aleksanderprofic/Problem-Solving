{
 "cells": [
  {
   "cell_type": "code",
   "execution_count": 11,
   "metadata": {},
   "outputs": [],
   "source": [
    "def solution(N: int, A: [int]) -> str:\n",
    "    s = list('-' * N)\n",
    "    for num in A:\n",
    "        s[num] = '+'\n",
    "\n",
    "    return ''.join(s)"
   ]
  },
  {
   "cell_type": "code",
   "execution_count": 12,
   "metadata": {},
   "outputs": [
    {
     "name": "stdout",
     "output_type": "stream",
     "text": [
      "769 ns ± 97.6 ns per loop (mean ± std. dev. of 7 runs, 1000000 loops each)\n"
     ]
    }
   ],
   "source": [
    "%%timeit\n",
    "solution(7,[3,6,0,3])"
   ]
  },
  {
   "cell_type": "code",
   "execution_count": 13,
   "metadata": {},
   "outputs": [],
   "source": [
    "def solution(S: str) -> str:\n",
    "    S = list(S)\n",
    "    prev_char = ''\n",
    "\n",
    "    for i, (current_char, next_char) in enumerate(zip(S, S[1:] + [''])):\n",
    "        if current_char == \"?\":\n",
    "            if prev_char == '1' or next_char == '1':\n",
    "                if prev_char == '2' or next_char == '2':\n",
    "                    replacement_str = '3'\n",
    "                else:\n",
    "                    replacement_str = '2'\n",
    "            else:\n",
    "                replacement_str = '1'\n",
    "\n",
    "            prev_char = S[i] = replacement_str\n",
    "        else:\n",
    "            prev_char = current_char\n",
    "\n",
    "    return ''.join(S)"
   ]
  },
  {
   "cell_type": "code",
   "execution_count": 14,
   "metadata": {},
   "outputs": [
    {
     "name": "stdout",
     "output_type": "stream",
     "text": [
      "3.27 µs ± 194 ns per loop (mean ± std. dev. of 7 runs, 100000 loops each)\n"
     ]
    }
   ],
   "source": [
    "%%timeit\n",
    "solution(\"?1???2???3???1?\")"
   ]
  }
 ],
 "metadata": {
  "kernelspec": {
   "display_name": "Python 3",
   "language": "python",
   "name": "python3"
  },
  "language_info": {
   "codemirror_mode": {
    "name": "ipython",
    "version": 3
   },
   "file_extension": ".py",
   "mimetype": "text/x-python",
   "name": "python",
   "nbconvert_exporter": "python",
   "pygments_lexer": "ipython3",
   "version": "3.7.9"
  }
 },
 "nbformat": 4,
 "nbformat_minor": 4
}
