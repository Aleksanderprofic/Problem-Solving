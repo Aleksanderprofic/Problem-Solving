{
 "cells": [
  {
   "cell_type": "code",
   "execution_count": 3,
   "metadata": {},
   "outputs": [
    {
     "data": {
      "text/plain": [
       "4"
      ]
     },
     "execution_count": 3,
     "metadata": {},
     "output_type": "execute_result"
    }
   ],
   "source": [
    "def solution(A):\n",
    "    max_number_in_rows = set()\n",
    "    for height in A:\n",
    "        for max_in_row in max_number_in_rows:\n",
    "            if height <= max_in_row:\n",
    "                break\n",
    "        else:\n",
    "            max_number_in_rows.add(height)\n",
    "    return len(max_number_in_rows)\n",
    "\n",
    "solution([1,2,5,3,10,-1])"
   ]
  }
 ],
 "metadata": {
  "kernelspec": {
   "display_name": "Python 3",
   "language": "python",
   "name": "python3"
  },
  "language_info": {
   "codemirror_mode": {
    "name": "ipython",
    "version": 3
   },
   "file_extension": ".py",
   "mimetype": "text/x-python",
   "name": "python",
   "nbconvert_exporter": "python",
   "pygments_lexer": "ipython3",
   "version": "3.7.9"
  }
 },
 "nbformat": 4,
 "nbformat_minor": 4
}
