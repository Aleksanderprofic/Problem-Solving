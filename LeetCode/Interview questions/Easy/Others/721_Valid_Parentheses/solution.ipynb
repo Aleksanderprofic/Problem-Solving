{
 "cells": [
  {
   "cell_type": "markdown",
   "metadata": {},
   "source": [
    "Difficulty: ***EASY***\n",
    "\n",
    "Given a string `s` containing just the characters `(`, `)`, `{`, `}`, `[` and `]`, determine if the input string is valid.\n",
    "\n",
    "An input string is valid if:\n",
    "\n",
    "    1. Open brackets must be closed by the same type of brackets.\n",
    "    2. Open brackets must be closed in the correct order.\n",
    " \n",
    "\n",
    "**Example 1:**\n",
    "\n",
    "```\n",
    "Input: s = \"()\"\n",
    "Output: true\n",
    "```\n",
    "    \n",
    "**Example 2:**\n",
    "\n",
    "```\n",
    "Input: s = \"()[]{}\"\n",
    "Output: true\n",
    "```\n",
    "\n",
    "**Example 3:**\n",
    "\n",
    "```\n",
    "Input: s = \"(]\"\n",
    "Output: false\n",
    "```\n",
    "\n",
    "**Example 4:**\n",
    "\n",
    "```\n",
    "Input: s = \"([)]\"\n",
    "Output: false\n",
    "```\n",
    "\n",
    "**Example 5:**\n",
    "\n",
    "```\n",
    "Input: s = \"{[]}\"\n",
    "Output: true\n",
    "```\n",
    "\n",
    "**Constraints:**\n",
    "    \n",
    "    - 1 <= s.length <= 104\n",
    "    - s consists of parentheses only '()[]{}'.\n"
   ]
  },
  {
   "cell_type": "code",
   "execution_count": 19,
   "metadata": {},
   "outputs": [
    {
     "data": {
      "text/plain": [
       "True"
      ]
     },
     "execution_count": 19,
     "metadata": {},
     "output_type": "execute_result"
    }
   ],
   "source": [
    "class Solution:\n",
    "    def isValid(self, s: str) -> bool:\n",
    "        stack = []\n",
    "        pairs_of_brackets = {']': '[', '}': '{', ')': '('}\n",
    "        for letter in s:\n",
    "            if letter in {'[', '(', '{'}:\n",
    "                stack.append(letter)\n",
    "            else:\n",
    "                if len(stack) == 0 or not stack.pop() == pairs_of_brackets[letter]:\n",
    "                    return False\n",
    "        return not len(stack)\n",
    "\n",
    "\n",
    "sol = Solution()\n",
    "sol.isValid('[]{()}')"
   ]
  }
 ],
 "metadata": {
  "kernelspec": {
   "display_name": "Python 3",
   "language": "python",
   "name": "python3"
  },
  "language_info": {
   "codemirror_mode": {
    "name": "ipython",
    "version": 3
   },
   "file_extension": ".py",
   "mimetype": "text/x-python",
   "name": "python",
   "nbconvert_exporter": "python",
   "pygments_lexer": "ipython3",
   "version": "3.7.9"
  }
 },
 "nbformat": 4,
 "nbformat_minor": 4
}
