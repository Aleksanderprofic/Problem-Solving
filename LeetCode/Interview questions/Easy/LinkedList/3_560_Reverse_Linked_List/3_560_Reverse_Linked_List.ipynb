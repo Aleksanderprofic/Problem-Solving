{
 "cells": [
  {
   "cell_type": "code",
   "execution_count": 6,
   "metadata": {},
   "outputs": [],
   "source": [
    "# Definition for singly-linked list.\n",
    "# class ListNode:\n",
    "#     def __init__(self, val=0, next=None):\n",
    "#         self.val = val\n",
    "#         self.next = next\n",
    "\n",
    "class Solution:\n",
    "    def reverseList(self, head: ListNode) -> ListNode:\n",
    "        prev, current = None, head\n",
    "        \n",
    "        while current:\n",
    "            next_ = current.next\n",
    "            current.next = prev\n",
    "            prev, current = current, next_\n",
    "    \n",
    "    def reverseListRecursive(self, head: ListNode) -> ListNode:\n",
    "        if head:\n",
    "            next_node = reverseListRecursive(head.next)\n",
    "            \n",
    "            if next_node:\n",
    "                next_node.next = head\n",
    "        \n",
    "            head.next = None\n",
    "            return head"
   ]
  }
 ],
 "metadata": {
  "kernelspec": {
   "display_name": "Python 3",
   "language": "python",
   "name": "python3"
  },
  "language_info": {
   "codemirror_mode": {
    "name": "ipython",
    "version": 3
   },
   "file_extension": ".py",
   "mimetype": "text/x-python",
   "name": "python",
   "nbconvert_exporter": "python",
   "pygments_lexer": "ipython3",
   "version": "3.7.9"
  }
 },
 "nbformat": 4,
 "nbformat_minor": 4
}
